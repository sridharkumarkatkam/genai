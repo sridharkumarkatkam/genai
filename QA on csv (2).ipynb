{
 "cells": [
  {
   "cell_type": "code",
   "execution_count": 1,
   "id": "c88c71ba",
   "metadata": {},
   "outputs": [],
   "source": [
    "from langchain.chat_models import ChatOpenAI\n",
    "#class provides more chat-related methods, such as completion_with_retry,\n",
    "#get_num_tokens_from_messages to make it more user-friendly when build chatbot related applications.\n",
    "#ChatOpenAI <-- BaseChatModel <- BaseLanguageModel\n",
    "\n",
    "from langchain.agents import create_csv_agent, create_pandas_dataframe_agent\n",
    "# For creating the agents\n",
    "#Agents determines which actions to take and in what order.\n",
    "\n",
    "from langchain.agents.agent_types import AgentType\n",
    "#AgentType is just a class which has key value pair of different agents and their respective models\n",
    "\n",
    "import pandas as pd    \n",
    "# for dataset related things\n",
    "\n",
    "import openai\n",
    "#for setting the openai (chat gpt) environment\n",
    "\n",
    "import langchain \n",
    "from langchain import PromptTemplate,LLMChain\n",
    "#for creating the prompts"
   ]
  },
  {
   "cell_type": "code",
   "execution_count": 1,
   "id": "9e22bdd3",
   "metadata": {},
   "outputs": [],
   "source": [
    "import json"
   ]
  },
  {
   "cell_type": "code",
   "execution_count": 4,
   "id": "f21fa4f9",
   "metadata": {},
   "outputs": [],
   "source": [
    "with open(\"api_key.json\") as fp:\n",
    "    key_file = json.load(fp)\n",
    "    api_key = key_file.get('api_key')"
   ]
  },
  {
   "cell_type": "code",
   "execution_count": 8,
   "id": "f27dfba8",
   "metadata": {},
   "outputs": [],
   "source": [
    "#Set openai api key\n",
    "import os\n",
    "os.environ[\"OPENAI_API_KEY\"] = api_key"
   ]
  },
  {
   "cell_type": "code",
   "execution_count": 10,
   "id": "aad39e99",
   "metadata": {},
   "outputs": [],
   "source": [
    "openai.api_key = os.environ[\"OPENAI_API_KEY\"]\n",
    "MODEL = \"gpt-3.5-turbo\""
   ]
  },
  {
   "cell_type": "code",
   "execution_count": 3,
   "id": "7dc63554",
   "metadata": {},
   "outputs": [
    {
     "name": "stdout",
     "output_type": "stream",
     "text": [
      "A prime number is a number greater than 1 that is only divisible by 1 and itself.\n"
     ]
    }
   ],
   "source": [
    "##example script to send a request with openai gpt models\n",
    "# response = openai.ChatCompletion.create(\n",
    "#     model=MODEL,\n",
    "#     messages=[\n",
    "#         {\"role\": \"system\", \"content\": \"You are a helpful assistant.\"},\n",
    "#         {\"role\": \"user\", \"content\": \"Explain a prime number in briefly in 1 line\"},\n",
    "#     ],\n",
    "#     temperature=0,\n",
    "# )\n",
    "\n",
    "# print(response['choices'][0]['message']['content'])"
   ]
  },
  {
   "cell_type": "code",
   "execution_count": 4,
   "id": "57c163b5",
   "metadata": {},
   "outputs": [],
   "source": [
    "data_file='C:\\Mani\\sample_data.csv'\n",
    "\n",
    "df = pd.read_csv(data_file)"
   ]
  },
  {
   "cell_type": "code",
   "execution_count": 13,
   "id": "23adf0f4",
   "metadata": {},
   "outputs": [
    {
     "data": {
      "text/html": [
       "<div>\n",
       "<style scoped>\n",
       "    .dataframe tbody tr th:only-of-type {\n",
       "        vertical-align: middle;\n",
       "    }\n",
       "\n",
       "    .dataframe tbody tr th {\n",
       "        vertical-align: top;\n",
       "    }\n",
       "\n",
       "    .dataframe thead th {\n",
       "        text-align: right;\n",
       "    }\n",
       "</style>\n",
       "<table border=\"1\" class=\"dataframe\">\n",
       "  <thead>\n",
       "    <tr style=\"text-align: right;\">\n",
       "      <th></th>\n",
       "      <th>_id</th>\n",
       "      <th>availability_dt</th>\n",
       "      <th>country</th>\n",
       "      <th>crt_dt</th>\n",
       "      <th>data_source</th>\n",
       "      <th>depot_id</th>\n",
       "      <th>depot_type</th>\n",
       "      <th>drug_description</th>\n",
       "      <th>id</th>\n",
       "      <th>irt_depot_name</th>\n",
       "      <th>last_gr_date</th>\n",
       "      <th>lot_expiry</th>\n",
       "      <th>lot_no</th>\n",
       "      <th>material_desc</th>\n",
       "      <th>material_id</th>\n",
       "      <th>name</th>\n",
       "      <th>original_release_qty</th>\n",
       "      <th>source</th>\n",
       "      <th>stock_blocked</th>\n",
       "      <th>stock_in_tfr</th>\n",
       "      <th>stock_quality_insp</th>\n",
       "      <th>stock_restricted_use</th>\n",
       "      <th>stock_unrestricted</th>\n",
       "      <th>storage_loc</th>\n",
       "      <th>study_id</th>\n",
       "      <th>total_available_med_id</th>\n",
       "      <th>total_damaged_mad_id</th>\n",
       "      <th>total_dns_med_id</th>\n",
       "      <th>total_expired_med_id</th>\n",
       "      <th>total_pending_med_id</th>\n",
       "      <th>total_unavailable_med_id</th>\n",
       "      <th>uom</th>\n",
       "    </tr>\n",
       "  </thead>\n",
       "  <tbody>\n",
       "    <tr>\n",
       "      <th>0</th>\n",
       "      <td>6512e00dbcff54a380813017</td>\n",
       "      <td>1970-01-01T00:00:00.000Z</td>\n",
       "      <td>Belgium</td>\n",
       "      <td>1970-01-01T00:00:00.000Z</td>\n",
       "      <td>endpoint</td>\n",
       "      <td>DD-9003</td>\n",
       "      <td>Distribution Depot</td>\n",
       "      <td>CC-92480 (ALPS-986348) CAP 0.2MG (1BTLX21) CA057</td>\n",
       "      <td>FG-50223-ACG0853-CA057-008-NA-NA-CC-92480 (ALP...</td>\n",
       "      <td>EUCW - Belgium</td>\n",
       "      <td>1970-01-01T00:00:00.000Z</td>\n",
       "      <td>2024-03-31T00:00:00.000Z</td>\n",
       "      <td>ACG0853</td>\n",
       "      <td>ALPS-986348CAP0.2MG(1BTLX21)CA057OLMUL P3</td>\n",
       "      <td>FG-50223</td>\n",
       "      <td>ALPS EU-Medica Regional Depot</td>\n",
       "      <td>0</td>\n",
       "      <td>IRT</td>\n",
       "      <td>0</td>\n",
       "      <td>0</td>\n",
       "      <td>0</td>\n",
       "      <td>0</td>\n",
       "      <td>64</td>\n",
       "      <td>NaN</td>\n",
       "      <td>AL-30005</td>\n",
       "      <td>64</td>\n",
       "      <td>0</td>\n",
       "      <td>0</td>\n",
       "      <td>0</td>\n",
       "      <td>0</td>\n",
       "      <td>0</td>\n",
       "      <td>ST</td>\n",
       "    </tr>\n",
       "    <tr>\n",
       "      <th>1</th>\n",
       "      <td>6512e00dbcff54a380813018</td>\n",
       "      <td>1970-01-01T00:00:00.000Z</td>\n",
       "      <td>China</td>\n",
       "      <td>1970-01-01T00:00:00.000Z</td>\n",
       "      <td>endpoint</td>\n",
       "      <td>DD-9018</td>\n",
       "      <td>Distribution Depot</td>\n",
       "      <td>DEXAMETHASONE TAB 4MG (1PK) CA057 OL MUL</td>\n",
       "      <td>FG-50421-X32215B.2A-CA057-001-NA-NA-DEXAMETHAS...</td>\n",
       "      <td>CHIN - China</td>\n",
       "      <td>1970-01-01T00:00:00.000Z</td>\n",
       "      <td>2027-04-30T00:00:00.000Z</td>\n",
       "      <td>X32215B.2A</td>\n",
       "      <td>DEXAMETH RATIOPHARM TAB4MG(1PK)CA057OLMU</td>\n",
       "      <td>FG-50421</td>\n",
       "      <td>Fisher China (Suzhou)</td>\n",
       "      <td>0</td>\n",
       "      <td>IRT</td>\n",
       "      <td>0</td>\n",
       "      <td>0</td>\n",
       "      <td>0</td>\n",
       "      <td>0</td>\n",
       "      <td>200</td>\n",
       "      <td>NaN</td>\n",
       "      <td>AL-30036</td>\n",
       "      <td>200</td>\n",
       "      <td>0</td>\n",
       "      <td>0</td>\n",
       "      <td>0</td>\n",
       "      <td>0</td>\n",
       "      <td>0</td>\n",
       "      <td>ST</td>\n",
       "    </tr>\n",
       "  </tbody>\n",
       "</table>\n",
       "</div>"
      ],
      "text/plain": [
       "                        _id           availability_dt  country  \\\n",
       "0  6512e00dbcff54a380813017  1970-01-01T00:00:00.000Z  Belgium   \n",
       "1  6512e00dbcff54a380813018  1970-01-01T00:00:00.000Z    China   \n",
       "\n",
       "                     crt_dt data_source depot_id          depot_type  \\\n",
       "0  1970-01-01T00:00:00.000Z    endpoint  DD-9003  Distribution Depot   \n",
       "1  1970-01-01T00:00:00.000Z    endpoint  DD-9018  Distribution Depot   \n",
       "\n",
       "                                   drug_description  \\\n",
       "0  CC-92480 (ALPS-986348) CAP 0.2MG (1BTLX21) CA057   \n",
       "1          DEXAMETHASONE TAB 4MG (1PK) CA057 OL MUL   \n",
       "\n",
       "                                                  id  irt_depot_name  \\\n",
       "0  FG-50223-ACG0853-CA057-008-NA-NA-CC-92480 (ALP...  EUCW - Belgium   \n",
       "1  FG-50421-X32215B.2A-CA057-001-NA-NA-DEXAMETHAS...    CHIN - China   \n",
       "\n",
       "               last_gr_date                lot_expiry      lot_no  \\\n",
       "0  1970-01-01T00:00:00.000Z  2024-03-31T00:00:00.000Z     ACG0853   \n",
       "1  1970-01-01T00:00:00.000Z  2027-04-30T00:00:00.000Z  X32215B.2A   \n",
       "\n",
       "                               material_desc material_id  \\\n",
       "0  ALPS-986348CAP0.2MG(1BTLX21)CA057OLMUL P3    FG-50223   \n",
       "1   DEXAMETH RATIOPHARM TAB4MG(1PK)CA057OLMU    FG-50421   \n",
       "\n",
       "                            name  original_release_qty source  stock_blocked  \\\n",
       "0  ALPS EU-Medica Regional Depot                     0    IRT              0   \n",
       "1          Fisher China (Suzhou)                     0    IRT              0   \n",
       "\n",
       "   stock_in_tfr  stock_quality_insp  stock_restricted_use  stock_unrestricted  \\\n",
       "0             0                   0                     0                  64   \n",
       "1             0                   0                     0                 200   \n",
       "\n",
       "   storage_loc  study_id  total_available_med_id  total_damaged_mad_id  \\\n",
       "0          NaN  AL-30005                      64                     0   \n",
       "1          NaN  AL-30036                     200                     0   \n",
       "\n",
       "   total_dns_med_id  total_expired_med_id  total_pending_med_id  \\\n",
       "0                 0                     0                     0   \n",
       "1                 0                     0                     0   \n",
       "\n",
       "   total_unavailable_med_id uom  \n",
       "0                         0  ST  \n",
       "1                         0  ST  "
      ]
     },
     "execution_count": 13,
     "metadata": {},
     "output_type": "execute_result"
    }
   ],
   "source": [
    "pd.options.display.max_columns = None\n",
    "df.head(2)"
   ]
  },
  {
   "cell_type": "markdown",
   "id": "bd76141d",
   "metadata": {},
   "source": [
    "## Creating the openapi module"
   ]
  },
  {
   "cell_type": "code",
   "execution_count": 18,
   "id": "0460a8b3",
   "metadata": {},
   "outputs": [],
   "source": [
    "open_ai_module = ChatOpenAI(temperature=0, model_name=MODEL)"
   ]
  },
  {
   "cell_type": "markdown",
   "id": "7f40cc92",
   "metadata": {},
   "source": [
    "## Creating the CSV Agent"
   ]
  },
  {
   "cell_type": "markdown",
   "id": "38ee7e34",
   "metadata": {},
   "source": [
    "Different Agent Types:\n",
    "- ZERO_SHOT_REACT_DESCRIPTION = \"zero-shot-react-description\": \n",
    "    - Agent has the knowledge of the current state only and Reasoning and Acting\n",
    "- REACT_DOCSTORE = \"react-docstore\": \n",
    "    - Searching in the Docstore and Reasoning and acting\n",
    "- SELF_ASK_WITH_SEARCH = \"self-ask-with-search\": \n",
    "    - It will ask the mini questions to itself\n",
    "- CONVERSATIONAL_REACT_DESCRIPTION = \"conversational-react-description\": \n",
    "    - REACT with buffer memory\n",
    "- CHAT_ZERO_SHOT_REACT_DESCRIPTION = \"chat-zero-shot-react-description\": \n",
    "    - ZERO_SHOT_REACT_DESCRIPTION with responses in the form of chat\n",
    "- CHAT_CONVERSATIONAL_REACT_DESCRIPTION = \"chat-conversational-react-description\": \n",
    "    - Used mainly in chat bot \n",
    "- STRUCTURED_CHAT_ZERO_SHOT_REACT_DESCRIPTION = (\"structured-chat-zero-shot-react-description\") : \n",
    "    - In order to use multi inputs. Eg. In Fitness App giving sets of exercise takes the input(s): Age, profession, critiques.\n",
    "- OPENAI_FUNCTIONS = \"openai-functions\": \n",
    "    - OpenAI models are now fine-tuned to recognize and generate function calls, making it easier to get JSON objects with function arguments. \n",
    "    - The OpenAI Functions Agent is tailored for this and aims for more reliable function calls than generic text or chat APIs\n",
    "- OPENAI_MULTI_FUNCTIONS = \"openai-multi-functions\":\n",
    "     - Imagine the OpenAI Multi-Function Agent is like doing two things at once. It can execute two functions in a single go. \n",
    "     - On the other hand, the OpenAI Functions Agent is like doing one thing first and then doing another. \n",
    "     - It handles one task, finishes it, and then moves on to the next task."
   ]
  },
  {
   "cell_type": "code",
   "execution_count": 19,
   "id": "f99bd597",
   "metadata": {},
   "outputs": [
    {
     "name": "stderr",
     "output_type": "stream",
     "text": [
      "C:\\Mani\\Anaconda3\\lib\\site-packages\\langchain\\agents\\agent_toolkits\\pandas\\base.py:289: LangChainPendingDeprecationWarning: On 2023-10-27 this module will be be deprecated from langchain, and will be available from the langchain-experimental package.This code is already available in langchain-experimental.See https://github.com/langchain-ai/langchain/discussions/11680.\n",
      "  warn_deprecated(\n"
     ]
    }
   ],
   "source": [
    "agent = create_csv_agent(\n",
    "            open_ai_module,\n",
    "            data_file,\n",
    "            verbose=True,\n",
    "            agent_type=AgentType.ZERO_SHOT_REACT_DESCRIPTION,\n",
    ")"
   ]
  },
  {
   "cell_type": "code",
   "execution_count": 16,
   "id": "614a61df",
   "metadata": {},
   "outputs": [],
   "source": [
    "question1 = \"How many drugs available in the country Belgium\""
   ]
  },
  {
   "cell_type": "code",
   "execution_count": 20,
   "id": "70a58a64",
   "metadata": {},
   "outputs": [
    {
     "name": "stdout",
     "output_type": "stream",
     "text": [
      "\n",
      "\n",
      "\u001b[1m> Entering new AgentExecutor chain...\u001b[0m\n",
      "\u001b[32;1m\u001b[1;3mThought: I need to filter the dataframe to only include rows where the country is Belgium, and then count the number of unique drugs.\n",
      "Action: python_repl_ast\n",
      "Action Input: df[df['country'] == 'Belgium']['drug_description'].nunique()\u001b[0m\n",
      "Observation: \u001b[36;1m\u001b[1;3m2\u001b[0m\n",
      "Thought:"
     ]
    },
    {
     "name": "stderr",
     "output_type": "stream",
     "text": [
      "C:\\Mani\\Anaconda3\\lib\\site-packages\\langchain\\tools\\python\\tool.py:140: LangChainPendingDeprecationWarning: On 2023-10-27 this module will be be deprecated from langchain, and will be available from the langchain-experimental package.This code is already available in langchain-experimental.See https://github.com/langchain-ai/langchain/discussions/11680.\n",
      "  warn_deprecated(\n"
     ]
    },
    {
     "name": "stdout",
     "output_type": "stream",
     "text": [
      "\u001b[32;1m\u001b[1;3mThere are 2 drugs available in the country Belgium.\n",
      "Final Answer: 2\u001b[0m\n",
      "\n",
      "\u001b[1m> Finished chain.\u001b[0m\n"
     ]
    }
   ],
   "source": [
    "res = agent.run(question1)"
   ]
  },
  {
   "cell_type": "code",
   "execution_count": 21,
   "id": "87359fff",
   "metadata": {},
   "outputs": [],
   "source": [
    "question2 = \"What is the total inventory available at location Germany\""
   ]
  },
  {
   "cell_type": "code",
   "execution_count": 23,
   "id": "6fdaeb77",
   "metadata": {},
   "outputs": [
    {
     "name": "stdout",
     "output_type": "stream",
     "text": [
      "\n",
      "\n",
      "\u001b[1m> Entering new AgentExecutor chain...\u001b[0m\n",
      "\u001b[32;1m\u001b[1;3mThought: I need to filter the dataframe to only include rows where the country is Germany, and then sum up the total_available_med_id column.\n",
      "\n",
      "Action: python_repl_ast\n",
      "Action Input: df[df['country'] == 'Germany']['total_available_med_id'].sum()\u001b[0m\n",
      "Observation: \u001b[36;1m\u001b[1;3m0\u001b[0m\n",
      "Thought:"
     ]
    },
    {
     "name": "stderr",
     "output_type": "stream",
     "text": [
      "C:\\Mani\\Anaconda3\\lib\\site-packages\\langchain\\tools\\python\\tool.py:140: LangChainPendingDeprecationWarning: On 2023-10-27 this module will be be deprecated from langchain, and will be available from the langchain-experimental package.This code is already available in langchain-experimental.See https://github.com/langchain-ai/langchain/discussions/11680.\n",
      "  warn_deprecated(\n"
     ]
    },
    {
     "name": "stdout",
     "output_type": "stream",
     "text": [
      "\u001b[32;1m\u001b[1;3mThe total inventory available at location Germany is 0.\n",
      "Final Answer: 0\u001b[0m\n",
      "\n",
      "\u001b[1m> Finished chain.\u001b[0m\n"
     ]
    }
   ],
   "source": [
    "res = agent.run(question2)"
   ]
  },
  {
   "cell_type": "code",
   "execution_count": null,
   "id": "fdf369e6",
   "metadata": {},
   "outputs": [],
   "source": []
  }
 ],
 "metadata": {
  "kernelspec": {
   "display_name": "Python 3 (ipykernel)",
   "language": "python",
   "name": "python3"
  },
  "language_info": {
   "codemirror_mode": {
    "name": "ipython",
    "version": 3
   },
   "file_extension": ".py",
   "mimetype": "text/x-python",
   "name": "python",
   "nbconvert_exporter": "python",
   "pygments_lexer": "ipython3",
   "version": "3.10.9"
  }
 },
 "nbformat": 4,
 "nbformat_minor": 5
}
